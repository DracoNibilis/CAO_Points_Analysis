{
 "cells": [
  {
   "cell_type": "markdown",
   "id": "fcd11eb5",
   "metadata": {},
   "source": [
    "### CAO points information \n",
    "\n",
    "File include detailed comparison of CAO points in 2019, 2020 and 2021 using the functionality in Pandas.\n",
    "plus appropiate plots \n"
   ]
  },
  {
   "cell_type": "markdown",
   "id": "76f445dd",
   "metadata": {},
   "source": [
    "Importing usefull modules:\n",
    " - pandas\n",
    " - numpy\n",
    " - matplotlib.pyplot\n",
    " "
   ]
  },
  {
   "cell_type": "code",
   "execution_count": 1,
   "id": "dbd4e93e",
   "metadata": {},
   "outputs": [],
   "source": [
    "import pandas as pd\n",
    "import numpy as np\n",
    "import matplotlib.pyplot as plt"
   ]
  },
  {
   "cell_type": "code",
   "execution_count": null,
   "id": "ae893326",
   "metadata": {},
   "outputs": [],
   "source": []
  },
  {
   "cell_type": "code",
   "execution_count": null,
   "id": "cd4134fc",
   "metadata": {},
   "outputs": [],
   "source": []
  },
  {
   "cell_type": "markdown",
   "id": "7ae64bfd",
   "metadata": {},
   "source": [
    "### REFERENCES:\n",
    "    1.\n",
    "    2.\n",
    "    3.\n",
    "    "
   ]
  },
  {
   "cell_type": "code",
   "execution_count": null,
   "id": "3ba8108c",
   "metadata": {},
   "outputs": [],
   "source": []
  }
 ],
 "metadata": {
  "kernelspec": {
   "display_name": "Python 3",
   "language": "python",
   "name": "python3"
  },
  "language_info": {
   "codemirror_mode": {
    "name": "ipython",
    "version": 3
   },
   "file_extension": ".py",
   "mimetype": "text/x-python",
   "name": "python",
   "nbconvert_exporter": "python",
   "pygments_lexer": "ipython3",
   "version": "3.8.8"
  }
 },
 "nbformat": 4,
 "nbformat_minor": 5
}
