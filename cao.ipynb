{
 "cells": [
  {
   "cell_type": "markdown",
   "id": "fcd11eb5",
   "metadata": {},
   "source": [
    "# CAO Points Analysis\n",
    "\n",
    "File include detailed comparison of CAO points in 2019, 2020 and 2021 using the functionality in Pandas,\n",
    "plus appropiate plots.\n",
    "\n",
    "***\n",
    "\n",
    "### Link to CAO Points Website\n",
    "https://www.cao.ie/index.php?/page=point&p=2021\n",
    "\n",
    "***"
   ]
  },
  {
   "cell_type": "markdown",
   "id": "76f445dd",
   "metadata": {},
   "source": [
    "\n",
    "\n",
    " "
   ]
  },
  {
   "cell_type": "code",
   "execution_count": 1,
   "id": "dbd4e93e",
   "metadata": {},
   "outputs": [],
   "source": [
    "# Convinient package for making HTTP requests.\n",
    "import requests as rq\n",
    "\n",
    "# Regular expression.\n",
    "import re\n",
    "\n",
    "#Dates and times.\n",
    "import datetime as dt"
   ]
  },
  {
   "cell_type": "code",
   "execution_count": 2,
   "id": "ae893326",
   "metadata": {},
   "outputs": [],
   "source": [
    "# Fetch CAO points from the website.\n",
    "resp = rq.get(\"http://www2.cao.ie/points/l8.php\")\n",
    "# Check if its connecting.\n",
    "# resp"
   ]
  },
  {
   "cell_type": "markdown",
   "id": "5b3b2aad",
   "metadata": {},
   "source": [
    "### Save original CAO data set to a HTML file. \n",
    "\n",
    "***"
   ]
  },
  {
   "cell_type": "code",
   "execution_count": 3,
   "id": "b503b3b3",
   "metadata": {},
   "outputs": [],
   "source": [
    "# Get the current date and time.\n",
    "now = dt.datetime.now()\n",
    "# Format as a string.\n",
    "nowstr = now.strftime('%Y%m%d_%H%M%S')\n",
    "# Creating timestamp in file as a filename itself.\n",
    "path = 'data/cao2021_' + nowstr + '.html'"
   ]
  },
  {
   "cell_type": "code",
   "execution_count": 4,
   "id": "5f6c039c",
   "metadata": {},
   "outputs": [],
   "source": [
    "# The server uses the wrong encoding, fix it.\n",
    "original_encoding = resp.encoding\n",
    "# Change to cp1252\n",
    "resp.encoding = 'cp1252'"
   ]
  },
  {
   "cell_type": "code",
   "execution_count": 5,
   "id": "53e6db27",
   "metadata": {},
   "outputs": [],
   "source": [
    "# Save the original html file\n",
    "with open(path, 'w') as f:\n",
    "    f.write(resp.text)"
   ]
  },
  {
   "cell_type": "markdown",
   "id": "6a93e487",
   "metadata": {},
   "source": [
    "### Use regular expression to select lines we want.\n",
    "\n",
    "***"
   ]
  },
  {
   "cell_type": "code",
   "execution_count": 6,
   "id": "b981af71-5631-4723-a856-0d0e4b00a568",
   "metadata": {},
   "outputs": [],
   "source": [
    "# Compile regular expression for matching lines.\n",
    "re_course = re.compile(r'([A-Z]{2}[0-9]{3})  (.*)([0-9]{3})(\\*?) *')"
   ]
  },
  {
   "cell_type": "markdown",
   "id": "9afa912e",
   "metadata": {},
   "source": [
    "### Loop through the lines of the response.\n",
    "***"
   ]
  },
  {
   "cell_type": "code",
   "execution_count": 9,
   "id": "cd4134fc",
   "metadata": {},
   "outputs": [
    {
     "name": "stdout",
     "output_type": "stream",
     "text": [
      "Total number of lines is 922.\n"
     ]
    }
   ],
   "source": [
    "# Keep track of how many courses we process.\n",
    "no_lines = 0\n",
    "\n",
    "# Writing sorted CAO data to a CSV file. \n",
    "path = 'data/cao2021_csv_' + nowstr + '.csv'\n",
    "\n",
    "with open (path, 'w') as f:\n",
    "    # The loop itself.\n",
    "    for line in resp.iter_lines():\n",
    "        # Decode the line, using the wrong encoding!\n",
    "        dline = line.decode('cp1252')\n",
    "        # Match only the lines representing courses.\n",
    "        if re_course.fullmatch(dline):\n",
    "            # Add one to the lines counter. \n",
    "            no_lines = no_lines +1\n",
    "            # Uncomment line below to check if choosen lines are correct.\n",
    "            # print(line)\n",
    "            # Split the line on two or more spaces.\n",
    "            linesplit = re.split( '  +', dline)\n",
    "            # Rejoin the substrings with commas in between\n",
    "            f.write(','.join(linesplit) + '\\n')\n",
    "        \n",
    "        \n",
    "# Print total number of processed lines.        \n",
    "print(f\"Total number of lines is {no_lines}.\")"
   ]
  },
  {
   "cell_type": "code",
   "execution_count": null,
   "id": "176676d4-35e7-45cb-9eb9-3ed60d1378ce",
   "metadata": {},
   "outputs": [],
   "source": []
  },
  {
   "cell_type": "code",
   "execution_count": null,
   "id": "c85a4a10-9ee4-46fb-a997-f04a6209920c",
   "metadata": {},
   "outputs": [],
   "source": []
  },
  {
   "cell_type": "code",
   "execution_count": null,
   "id": "a09623ff-17a9-4b13-818a-c3aeafe60dc8",
   "metadata": {},
   "outputs": [],
   "source": []
  },
  {
   "cell_type": "markdown",
   "id": "7ae64bfd",
   "metadata": {},
   "source": [
    "### REFERENCES:\n",
    "    1.\n",
    "    2.\n",
    "    3.\n",
    "    "
   ]
  },
  {
   "cell_type": "code",
   "execution_count": null,
   "id": "3ba8108c",
   "metadata": {},
   "outputs": [],
   "source": []
  }
 ],
 "metadata": {
  "kernelspec": {
   "display_name": "Python 3",
   "language": "python",
   "name": "python3"
  },
  "language_info": {
   "codemirror_mode": {
    "name": "ipython",
    "version": 3
   },
   "file_extension": ".py",
   "mimetype": "text/x-python",
   "name": "python",
   "nbconvert_exporter": "python",
   "pygments_lexer": "ipython3",
   "version": "3.8.8"
  }
 },
 "nbformat": 4,
 "nbformat_minor": 5
}
