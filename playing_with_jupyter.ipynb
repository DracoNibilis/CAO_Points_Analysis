{
 "cells": [
  {
   "cell_type": "markdown",
   "id": "e071834e",
   "metadata": {},
   "source": [
    "   # Playing with Pandas\n"
   ]
  },
  {
   "cell_type": "markdown",
   "id": "915af075",
   "metadata": {},
   "source": [
    "### Pandas series\n",
    "Series is a one-dimensional labeled array capable of holding data of any type.\n",
    "\n",
    "A pandas Series can be created using the following constructor :\n",
    "1. *data* - data takes various forms like ndarray, list, constants.\n",
    "2. *index* - index values must be unique and hashable, same length as data. Default np.arrange(n) if no index is passed.\n",
    "3. *dtype* - dtype is for data type. If None, data type will be inferred.\n",
    "4. *copy* - Copy data. Default False\n",
    "\n",
    "A series can be created using various inputs:\n",
    "- Array\n",
    "- Dict\n",
    "- Scalar value or constant\n",
    "               \n",
    "\n"
   ]
  },
  {
   "cell_type": "markdown",
   "id": "14019e70",
   "metadata": {},
   "source": [
    "### First \n",
    "to create a data series we will import the pandas library and alliasing it as pd:\n",
    "```python \n",
    "import pandas as pd\n",
    "```"
   ]
  },
  {
   "cell_type": "code",
   "execution_count": 1,
   "id": "8c9d771f",
   "metadata": {},
   "outputs": [],
   "source": [
    "import pandas as pd"
   ]
  },
  {
   "cell_type": "markdown",
   "id": "ea2fb11e",
   "metadata": {},
   "source": [
    "time to create empty data series:\n"
   ]
  },
  {
   "cell_type": "code",
   "execution_count": 2,
   "id": "e203188c",
   "metadata": {},
   "outputs": [
    {
     "name": "stdout",
     "output_type": "stream",
     "text": [
      "Series([], dtype: float64)\n"
     ]
    },
    {
     "name": "stderr",
     "output_type": "stream",
     "text": [
      "<ipython-input-2-893de6a9497a>:1: DeprecationWarning: The default dtype for empty Series will be 'object' instead of 'float64' in a future version. Specify a dtype explicitly to silence this warning.\n",
      "  s = pd.Series()\n"
     ]
    }
   ],
   "source": [
    "s = pd.Series()\n",
    "print(s)"
   ]
  },
  {
   "cell_type": "markdown",
   "id": "b116b4c9",
   "metadata": {},
   "source": [
    "### Create a Series from ndarray"
   ]
  },
  {
   "cell_type": "markdown",
   "id": "a5a2e49b",
   "metadata": {},
   "source": [
    "NOTICE: to do that we will need import another Python library ***numpy***\n",
    "\n",
    "```python \n",
    "import numpy as np\n",
    "```"
   ]
  },
  {
   "cell_type": "code",
   "execution_count": 3,
   "id": "a9fd04eb",
   "metadata": {},
   "outputs": [],
   "source": [
    "import numpy as np"
   ]
  },
  {
   "cell_type": "code",
   "execution_count": 5,
   "id": "57e128bf",
   "metadata": {},
   "outputs": [
    {
     "name": "stdout",
     "output_type": "stream",
     "text": [
      "0    a\n",
      "1    b\n",
      "2    c\n",
      "3    d\n",
      "dtype: object\n"
     ]
    }
   ],
   "source": [
    "# creating of series \n",
    "data = np.array(['a','b','c','d'])\n",
    "s = pd.Series(data)\n",
    "print(s)"
   ]
  },
  {
   "cell_type": "markdown",
   "id": "88ac9a32",
   "metadata": {},
   "source": [
    "## And we created first data series.\n",
    "\n",
    "To get more information about Pandas Series please go [HERE](https://www.tutorialspoint.com/python_pandas/python_pandas_series.htm)\n",
    "\n",
    "\n",
    "\n",
    "![](https://listimg.pinclipart.com/picdir/s/367-3678882_python-logo-clipart-easy-pandas-python-logo-png.png)\n",
    "\n",
    "\n",
    "\n",
    "**THANKS!**"
   ]
  },
  {
   "cell_type": "code",
   "execution_count": null,
   "id": "135b5ce1",
   "metadata": {},
   "outputs": [],
   "source": []
  }
 ],
 "metadata": {
  "kernelspec": {
   "display_name": "Python 3",
   "language": "python",
   "name": "python3"
  },
  "language_info": {
   "codemirror_mode": {
    "name": "ipython",
    "version": 3
   },
   "file_extension": ".py",
   "mimetype": "text/x-python",
   "name": "python",
   "nbconvert_exporter": "python",
   "pygments_lexer": "ipython3",
   "version": "3.8.8"
  }
 },
 "nbformat": 4,
 "nbformat_minor": 5
}
